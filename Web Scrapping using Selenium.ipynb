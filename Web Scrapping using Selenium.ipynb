{
 "cells": [
  {
   "cell_type": "code",
   "execution_count": 8,
   "id": "e9ad0de1",
   "metadata": {},
   "outputs": [],
   "source": [
    "import selenium\n",
    "from selenium import webdriver\n",
    "\n",
    "from selenium.webdriver.common.keys import Keys\n",
    "from selenium.webdriver.common.by import By\n",
    "\n",
    "PATH = \"C:\\Program Files\\drivers\\msedgedriver.exe\" ## my webdriver path\n",
    "\n",
    "driver = webdriver.Edge(PATH)\n",
    "\n",
    "#to open a website, pass the website url to the .get() method\n",
    "driver.get(\"https://www.kaggle.com/\")\n",
    "\n",
    "##to print the title of the page\n",
    "print(driver.title)\n",
    "\n",
    "#close the page\n",
    "# driver.quit()\n",
    "\n",
    "## change the config of floating window\n",
    "\n",
    "# driver.maximize_window()\n",
    "# driver.minimize_window()\n",
    "# driver.maximize_window()\n",
    "\n",
    "\n",
    "# driver.set_window_size(width = 700, height = 1000)\n",
    "\n",
    "\n",
    "## acess the search button\n",
    "search_box = driver.find_element(By.XPATH, '//*[@id=\"site-container\"]/div/div[3]/div[2]/div[1]/div/input').click()\n",
    "\n",
    "search_box = driver.find_element(By.XPATH, '//*[@id=\"site-container\"]/div/div[5]/div[1]/div/div[1]/form/input')\n",
    "## saerch whatever you want by simply accessing the search box\n",
    "search_string = input()\n",
    "search_box.send_keys(search_string)\n",
    "## now click on the search icon to fetch results\n",
    "driver.find_element(By.XPATH, '//*[@id=\"site-container\"]/div/div[5]/div[1]/div/div[2]/button[1]').click()\n",
    "#.click() to access the search item\n",
    "\n",
    "## if we want to delete previous and search something new\n",
    "search_box = driver.find_element(By.XPATH, '//*[@id=\"site-container\"]/div/div[5]/div[1]/div/div[2]/button[2]').click()\n",
    "search_box = driver.find_element(By.XPATH, '//*[@id=\"site-container\"]/div/div[3]/div[2]/div[1]/div/input').click()\n",
    "\n",
    "search_box = driver.find_element(By.XPATH, '//*[@id=\"site-container\"]/div/div[5]/div[1]/div/div[1]/form/input')\n",
    "\n",
    "# search_box.clear()\n",
    "'''.clear() to delete previous search history'''\n",
    "search_string_new = input()\n",
    "search_box.send_keys(search_string_new)\n",
    "driver.find_element(By.XPATH, '//*[@id=\"site-container\"]/div/div[5]/div[1]/div/div[2]/button[1]').click()\n",
    "\n",
    "\n",
    "driver.back() # .back() to search the previous things\n",
    "\n",
    "driver.forward() # .forward() to go back to recent search"
   ]
  },
  {
   "cell_type": "code",
   "execution_count": null,
   "id": "d9c463c6",
   "metadata": {},
   "outputs": [],
   "source": []
  },
  {
   "cell_type": "code",
   "execution_count": null,
   "id": "e108ab15",
   "metadata": {},
   "outputs": [],
   "source": []
  },
  {
   "cell_type": "code",
   "execution_count": null,
   "id": "6a1517fa",
   "metadata": {},
   "outputs": [],
   "source": []
  },
  {
   "cell_type": "code",
   "execution_count": null,
   "id": "ad84828c",
   "metadata": {},
   "outputs": [],
   "source": []
  },
  {
   "cell_type": "code",
   "execution_count": null,
   "id": "22bbc65e",
   "metadata": {},
   "outputs": [],
   "source": []
  },
  {
   "cell_type": "code",
   "execution_count": null,
   "id": "dcb04bf3",
   "metadata": {},
   "outputs": [],
   "source": []
  },
  {
   "cell_type": "code",
   "execution_count": null,
   "id": "6f387115",
   "metadata": {},
   "outputs": [],
   "source": []
  },
  {
   "cell_type": "code",
   "execution_count": null,
   "id": "e49ec0c9",
   "metadata": {},
   "outputs": [],
   "source": []
  },
  {
   "cell_type": "code",
   "execution_count": null,
   "id": "76ae9f16",
   "metadata": {},
   "outputs": [],
   "source": []
  },
  {
   "cell_type": "code",
   "execution_count": null,
   "id": "e3b1fcc7",
   "metadata": {},
   "outputs": [],
   "source": []
  },
  {
   "cell_type": "code",
   "execution_count": null,
   "id": "921c1818",
   "metadata": {},
   "outputs": [],
   "source": []
  },
  {
   "cell_type": "code",
   "execution_count": null,
   "id": "8341fbec",
   "metadata": {},
   "outputs": [],
   "source": []
  },
  {
   "cell_type": "code",
   "execution_count": null,
   "id": "59238b81",
   "metadata": {},
   "outputs": [],
   "source": []
  }
 ],
 "metadata": {
  "kernelspec": {
   "display_name": "Python 3 (ipykernel)",
   "language": "python",
   "name": "python3"
  },
  "language_info": {
   "codemirror_mode": {
    "name": "ipython",
    "version": 3
   },
   "file_extension": ".py",
   "mimetype": "text/x-python",
   "name": "python",
   "nbconvert_exporter": "python",
   "pygments_lexer": "ipython3",
   "version": "3.9.13"
  }
 },
 "nbformat": 4,
 "nbformat_minor": 5
}
